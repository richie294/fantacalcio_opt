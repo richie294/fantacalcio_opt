{
 "cells": [
  {
   "cell_type": "code",
   "execution_count": 2,
   "id": "531ba90e",
   "metadata": {},
   "outputs": [],
   "source": [
    "import pandas as pd\n",
    "import numpy as np\n",
    "from sklearn.linear_model import LinearRegression\n",
    "import matplotlib.pyplot as plt"
   ]
  },
  {
   "cell_type": "code",
   "execution_count": 14,
   "id": "8e072eb9",
   "metadata": {},
   "outputs": [],
   "source": [
    "data2122 = pd.read_excel('/Users/richi/Desktop/Knowledge/General Knowledge/Fanta/Data/21-22.xlsx',index_col=0, header=1)\n",
    "data2021 = pd.read_excel('/Users/richi/Desktop/Knowledge/General Knowledge/Fanta/Data/20-21.xlsx',index_col=0, header=1)\n",
    "data1920 = pd.read_excel('/Users/richi/Desktop/Knowledge/General Knowledge/Fanta/Data/19-20.xlsx',index_col=0, header=1)\n",
    "data1819 = pd.read_excel('/Users/richi/Desktop/Knowledge/General Knowledge/Fanta/Data/18-19.xlsx',index_col=0, header=1)\n",
    "data1718 = pd.read_excel('/Users/richi/Desktop/Knowledge/General Knowledge/Fanta/Data/17-18.xlsx',index_col=0, header=1)"
   ]
  },
  {
   "cell_type": "code",
   "execution_count": 7,
   "id": "9a53e092",
   "metadata": {},
   "outputs": [],
   "source": [
    "data = pd.concat([data1718,data1819,data1920,data2021,data2122])\n",
    "data = data[data['Pv']>=20]"
   ]
  },
  {
   "cell_type": "code",
   "execution_count": 8,
   "id": "cac45fb0",
   "metadata": {},
   "outputs": [],
   "source": [
    "p = data[data['R'] == 'P']\n",
    "d = data[data['R'] == 'D']\n",
    "c = data[data['R'] == 'C']\n",
    "a = data[data['R'] == 'A']"
   ]
  },
  {
   "cell_type": "markdown",
   "id": "03098ad2",
   "metadata": {},
   "source": [
    "# Portieri"
   ]
  },
  {
   "cell_type": "code",
   "execution_count": 6,
   "id": "9a097a53",
   "metadata": {},
   "outputs": [],
   "source": [
    "X = np.array(p[['Gs']]).reshape(-1,1)\n",
    "Y = np.array(p[['Mf']])"
   ]
  },
  {
   "cell_type": "code",
   "execution_count": 7,
   "id": "02d84509",
   "metadata": {},
   "outputs": [],
   "source": [
    "reg = LinearRegression().fit(X, Y)"
   ]
  },
  {
   "cell_type": "code",
   "execution_count": 8,
   "id": "648543e6",
   "metadata": {},
   "outputs": [
    {
     "name": "stdout",
     "output_type": "stream",
     "text": [
      "Intercept:  [5.86423055]\n",
      "Coefficient:  [[-0.02260693]]\n"
     ]
    }
   ],
   "source": [
    "print('Intercept: ', reg.intercept_)\n",
    "print('Coefficient: ', reg.coef_)"
   ]
  },
  {
   "cell_type": "code",
   "execution_count": 9,
   "id": "f354d6d0",
   "metadata": {},
   "outputs": [
    {
     "data": {
      "image/png": "[encoded data removed]",
      "text/plain": [
       "<Figure size 432x288 with 1 Axes>"
      ]
     },
     "metadata": {
      "needs_background": "light"
     },
     "output_type": "display_data"
    }
   ],
   "source": [
    "q = reg.intercept_\n",
    "m = reg.coef_\n",
    "x = np.array(range(10,60)).reshape((len(range(10,60))),1)\n",
    "y = q+m*x\n",
    "plt.plot(x,y.reshape((len(y),1)))\n",
    "plt.grid(visible=True)"
   ]
  },
  {
   "cell_type": "code",
   "execution_count": 10,
   "id": "8bccbbca",
   "metadata": {},
   "outputs": [
    {
     "data": {
      "text/plain": [
       "(array([ 1.,  3.,  1.,  8., 10.,  2.,  7., 17.,  7.,  9., 11.,  7.,  6.,\n",
       "         1.,  2.,  1.,  2.,  0.,  0.,  1.]),\n",
       " array([14.  , 17.85, 21.7 , 25.55, 29.4 , 33.25, 37.1 , 40.95, 44.8 ,\n",
       "        48.65, 52.5 , 56.35, 60.2 , 64.05, 67.9 , 71.75, 75.6 , 79.45,\n",
       "        83.3 , 87.15, 91.  ]),\n",
       " <BarContainer object of 20 artists>)"
      ]
     },
     "execution_count": 10,
     "metadata": {},
     "output_type": "execute_result"
    },
    {
     "data": {
      "image/png": "[encoded data removed]",
      "text/plain": [
       "<Figure size 432x288 with 1 Axes>"
      ]
     },
     "metadata": {
      "needs_background": "light"
     },
     "output_type": "display_data"
    }
   ],
   "source": [
    "plt.hist(p['Gs'],bins=20)"
   ]
  },
  {
   "cell_type": "code",
   "execution_count": 11,
   "id": "ab34df69",
   "metadata": {},
   "outputs": [
    {
     "data": {
      "text/plain": [
       "14"
      ]
     },
     "execution_count": 11,
     "metadata": {},
     "output_type": "execute_result"
    }
   ],
   "source": [
    "min(p['Gs'])"
   ]
  },
  {
   "cell_type": "code",
   "execution_count": 48,
   "id": "c0bfb0a0",
   "metadata": {},
   "outputs": [],
   "source": [
    "def por(gs):\n",
    "    return 5.86-0.0226*gs"
   ]
  },
  {
   "cell_type": "markdown",
   "id": "6bfe0b05",
   "metadata": {},
   "source": [
    "# Difensori"
   ]
  },
  {
   "cell_type": "code",
   "execution_count": 12,
   "id": "d5bd4001",
   "metadata": {},
   "outputs": [],
   "source": [
    "X = np.array(d[['Gf','Ass','Amm','Esp']])\n",
    "Y = np.array(d[['Mf']])"
   ]
  },
  {
   "cell_type": "code",
   "execution_count": 13,
   "id": "b6955fec",
   "metadata": {},
   "outputs": [],
   "source": [
    "reg = LinearRegression().fit(X, Y)"
   ]
  },
  {
   "cell_type": "code",
   "execution_count": 14,
   "id": "979bad9e",
   "metadata": {},
   "outputs": [
    {
     "name": "stdout",
     "output_type": "stream",
     "text": [
      "Intercept:  [5.83125903]\n",
      "Coefficient:  [[ 0.15050112  0.06041392 -0.01989902 -0.09663594]]\n"
     ]
    }
   ],
   "source": [
    "print('Intercept: ', reg.intercept_)\n",
    "print('Coefficient: ', reg.coef_)"
   ]
  },
  {
   "cell_type": "code",
   "execution_count": 24,
   "id": "f33b52ec",
   "metadata": {},
   "outputs": [],
   "source": [
    "def dif(gf,ass,amm,esp):\n",
    "    return 5.83 + 0.15*gf + 0.06*ass - 0.02*amm - 0.1*esp"
   ]
  },
  {
   "cell_type": "markdown",
   "id": "ce0f980d",
   "metadata": {},
   "source": [
    "# Centrocampisti"
   ]
  },
  {
   "cell_type": "code",
   "execution_count": 15,
   "id": "83e355ce",
   "metadata": {},
   "outputs": [],
   "source": [
    "X = np.array(c[['Gf','Ass','Amm','Esp']])\n",
    "Y = np.array(c[['Mf']])"
   ]
  },
  {
   "cell_type": "code",
   "execution_count": 16,
   "id": "89fef7cd",
   "metadata": {},
   "outputs": [],
   "source": [
    "reg = LinearRegression().fit(X, Y)"
   ]
  },
  {
   "cell_type": "code",
   "execution_count": 17,
   "id": "31c463a6",
   "metadata": {},
   "outputs": [
    {
     "name": "stdout",
     "output_type": "stream",
     "text": [
      "Intercept:  [5.90178828]\n",
      "Coefficient:  [[ 0.12284627  0.05538634 -0.02142406 -0.06543067]]\n"
     ]
    }
   ],
   "source": [
    "print('Intercept: ', reg.intercept_)\n",
    "print('Coefficient: ', reg.coef_)"
   ]
  },
  {
   "cell_type": "code",
   "execution_count": 25,
   "id": "633d0cc1",
   "metadata": {},
   "outputs": [],
   "source": [
    "def cen(gf,ass,amm,esp):\n",
    "    return 5.9 + 0.12*gf + 0.055*ass - 0.02*amm - 0.065*esp"
   ]
  },
  {
   "cell_type": "markdown",
   "id": "d4ef45ad",
   "metadata": {},
   "source": [
    "# Attaccanti"
   ]
  },
  {
   "cell_type": "code",
   "execution_count": 18,
   "id": "e39c2c30",
   "metadata": {},
   "outputs": [],
   "source": [
    "X = np.array(a[['Gf','Ass','Amm','Esp']])\n",
    "Y = np.array(a['Mf'])"
   ]
  },
  {
   "cell_type": "code",
   "execution_count": 19,
   "id": "2297efe1",
   "metadata": {},
   "outputs": [],
   "source": [
    "reg = LinearRegression().fit(X, Y)"
   ]
  },
  {
   "cell_type": "code",
   "execution_count": 20,
   "id": "982ceaa2",
   "metadata": {},
   "outputs": [
    {
     "name": "stdout",
     "output_type": "stream",
     "text": [
      "Intercept:  5.925493218853914\n",
      "Coefficient:  [ 0.10527875  0.05915109 -0.02794091 -0.00011621]\n"
     ]
    }
   ],
   "source": [
    "print('Intercept: ', reg.intercept_)\n",
    "print('Coefficient: ', reg.coef_)"
   ]
  },
  {
   "cell_type": "code",
   "execution_count": 28,
   "id": "445c4c1d",
   "metadata": {},
   "outputs": [],
   "source": [
    "def att(gf,ass,amm):\n",
    "    return 5.925 + 0.105*gf + 0.06*ass - 0.028*amm"
   ]
  },
  {
   "cell_type": "code",
   "execution_count": 21,
   "id": "48698b37",
   "metadata": {},
   "outputs": [
    {
     "data": {
      "text/plain": [
       "(array([19., 37., 46., 47., 18., 27., 33., 11., 15.,  5.,  6.,  6.,  5.,\n",
       "         2.,  1.,  1.,  3.,  1.,  0.,  1.]),\n",
       " array([ 0. ,  1.8,  3.6,  5.4,  7.2,  9. , 10.8, 12.6, 14.4, 16.2, 18. ,\n",
       "        19.8, 21.6, 23.4, 25.2, 27. , 28.8, 30.6, 32.4, 34.2, 36. ]),\n",
       " <BarContainer object of 20 artists>)"
      ]
     },
     "execution_count": 21,
     "metadata": {},
     "output_type": "execute_result"
    },
    {
     "data": {
      "image/png": "[encoded data removed]",
      "text/plain": [
       "<Figure size 432x288 with 1 Axes>"
      ]
     },
     "metadata": {
      "needs_background": "light"
     },
     "output_type": "display_data"
    }
   ],
   "source": [
    "plt.hist(a['Gf'],bins=20)"
   ]
  },
  {
   "cell_type": "markdown",
   "id": "1bb66530",
   "metadata": {},
   "source": [
    "# Prediction"
   ]
  },
  {
   "cell_type": "code",
   "execution_count": 35,
   "id": "1ffcfd7b",
   "metadata": {},
   "outputs": [
    {
     "data": {
      "text/plain": [
       "7.011"
      ]
     },
     "execution_count": 35,
     "metadata": {},
     "output_type": "execute_result"
    }
   ],
   "source": [
    "att(10,2,3)"
   ]
  },
  {
   "cell_type": "code",
   "execution_count": 47,
   "id": "c7e21135",
   "metadata": {},
   "outputs": [
    {
     "data": {
      "text/plain": [
       "7.41"
      ]
     },
     "execution_count": 47,
     "metadata": {},
     "output_type": "execute_result"
    }
   ],
   "source": [
    "cen(8,10,0,0)"
   ]
  },
  {
   "cell_type": "code",
   "execution_count": 52,
   "id": "5cc4424e",
   "metadata": {},
   "outputs": [
    {
     "data": {
      "text/plain": [
       "4.956"
      ]
     },
     "execution_count": 52,
     "metadata": {},
     "output_type": "execute_result"
    }
   ],
   "source": [
    "por(40)"
   ]
  },
  {
   "cell_type": "code",
   "execution_count": null,
   "id": "17e47529",
   "metadata": {},
   "outputs": [],
   "source": []
  }
 ],
 "metadata": {
  "kernelspec": {
   "display_name": "Python 3",
   "language": "python",
   "name": "python3"
  },
  "language_info": {
   "codemirror_mode": {
    "name": "ipython",
    "version": 3
   },
   "file_extension": ".py",
   "mimetype": "text/x-python",
   "name": "python",
   "nbconvert_exporter": "python",
   "pygments_lexer": "ipython3",
   "version": "3.8.8"
  }
 },
 "nbformat": 4,
 "nbformat_minor": 5
}
