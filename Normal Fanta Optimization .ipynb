{
 "cells": [
  {
   "cell_type": "code",
   "execution_count": 3,
   "id": "68d0b1c5",
   "metadata": {},
   "outputs": [],
   "source": [
    "import numpy as np\n",
    "from scipy.optimize import linprog\n",
    "import matplotlib.pyplot as plt"
   ]
  },
  {
   "cell_type": "code",
   "execution_count": 4,
   "id": "3922e22d",
   "metadata": {},
   "outputs": [],
   "source": [
    "def por(gs):\n",
    "    return 5.86-0.0226*gs"
   ]
  },
  {
   "cell_type": "code",
   "execution_count": 5,
   "id": "551aeba4",
   "metadata": {},
   "outputs": [],
   "source": [
    "def dif(gf,ass,amm,esp):\n",
    "    return 5.83 + 0.15*gf + 0.06*ass - 0.02*amm - 0.1*esp"
   ]
  },
  {
   "cell_type": "code",
   "execution_count": 6,
   "id": "82ea39e1",
   "metadata": {},
   "outputs": [],
   "source": [
    "def cen(gf,ass,amm):\n",
    "    return 5.9 + 0.12*gf + 0.055*ass - 0.02*amm"
   ]
  },
  {
   "cell_type": "code",
   "execution_count": 7,
   "id": "0561e5b9",
   "metadata": {},
   "outputs": [],
   "source": [
    "def att(gf,ass,amm):\n",
    "    return 5.925 + 0.105*gf + 0.06*ass - 0.028*amm"
   ]
  },
  {
   "cell_type": "markdown",
   "id": "0ab59bf5",
   "metadata": {},
   "source": [
    "# Portieri"
   ]
  },
  {
   "cell_type": "code",
   "execution_count": 8,
   "id": "47068a8b",
   "metadata": {},
   "outputs": [],
   "source": [
    "p1 = [5.5, 35]\n",
    "p2 = [5.3, 20]\n",
    "p3 = [4.75, 5]"
   ]
  },
  {
   "cell_type": "code",
   "execution_count": 9,
   "id": "5b88d006",
   "metadata": {},
   "outputs": [],
   "source": [
    "p = [p1,p2,p3]"
   ]
  },
  {
   "cell_type": "markdown",
   "id": "7a4a003c",
   "metadata": {},
   "source": [
    "# Difensori"
   ]
  },
  {
   "cell_type": "code",
   "execution_count": 10,
   "id": "942dfbe5",
   "metadata": {},
   "outputs": [],
   "source": [
    "d1 = [dif(4,5,2,0), 35] # terzino offensivo\n",
    "d2 = [6.1, 22] # centrale forte\n",
    "d3 = [dif(1,4,2,0), 10] # terzino titolare squadra medio-forte\n",
    "d4 = [6.2, 8] # centrale squadra medio-forte (es Lazio, Atalanta)\n",
    "d5 = [5.7, 1] # resto-terzini\n",
    "d6 = [5.7, 1] # resto-centrali"
   ]
  },
  {
   "cell_type": "code",
   "execution_count": 11,
   "id": "64ce48b8",
   "metadata": {},
   "outputs": [],
   "source": [
    "d = [d1, d2, d3, d4, d5, d6]"
   ]
  },
  {
   "cell_type": "markdown",
   "id": "2cc851f3",
   "metadata": {},
   "source": [
    "# Centrocampisti"
   ]
  },
  {
   "cell_type": "code",
   "execution_count": 12,
   "id": "32423919",
   "metadata": {},
   "outputs": [],
   "source": [
    "c1 = [7.5, 95] # Kvara, Chiesa\n",
    "c2 = [7.4, 80] # SMS\n",
    "# Zaccagni?\n",
    "c3 = [6.9, 50] # Trequartisti forti: Pellegrini, Chala, Felipe, Zielinski, Barella, Koop\n",
    "c4 = [6.5, 18] # Mediani forti: Brozo, Locatelli, Anguissa, Tonali, Bennacer, Lobotka\n",
    "c5 = [6.4, 20] # Trequartisti medi: Miranchuk, Zaniolo, Bajrami, CDK, Barak, Luis Alberto, Pereyra\n",
    "c6 = [5.8, 1] # Resto"
   ]
  },
  {
   "cell_type": "code",
   "execution_count": 13,
   "id": "ee099ab9",
   "metadata": {},
   "outputs": [],
   "source": [
    "c = [c1, c2, c3, c4, c5, c6]"
   ]
  },
  {
   "cell_type": "markdown",
   "id": "072a68de",
   "metadata": {},
   "source": [
    "# Attaccanti"
   ]
  },
  {
   "cell_type": "code",
   "execution_count": 14,
   "id": "0c0b795f",
   "metadata": {},
   "outputs": [],
   "source": [
    "a1 = [9, 210] # Osimhen, Vlahovic, Immobile, Lukaku?\n",
    "a2 = [8.2, 180] # Lautaro, Abraham, Dybala\n",
    "a3 = [7.8, 140] # Leao\n",
    "a4 = [7, 80] # Arnautovic, Giroud, Zapata, Berardi, Milik, Beto\n",
    "a5 = [6.5, 35] # Deulofeu, Pedro, Di Maria, Sanabria, Gonzalez, Cabral \n",
    "a6 = [6, 1] # Resto "
   ]
  },
  {
   "cell_type": "code",
   "execution_count": 15,
   "id": "aa3b672a",
   "metadata": {},
   "outputs": [],
   "source": [
    "a = [a1, a2, a3, a4, a5, a6]"
   ]
  },
  {
   "cell_type": "markdown",
   "id": "3a7d2d52",
   "metadata": {},
   "source": [
    "# Optimization"
   ]
  },
  {
   "cell_type": "code",
   "execution_count": 16,
   "id": "03b31cd1",
   "metadata": {},
   "outputs": [],
   "source": [
    "t1 = [p, d, c, a]\n",
    "t2 = sum(t1, [])\n",
    "tot = np.array(t2)"
   ]
  },
  {
   "cell_type": "code",
   "execution_count": 17,
   "id": "bac294a6",
   "metadata": {},
   "outputs": [],
   "source": [
    "val = tot[:,0]\n",
    "cost = tot[:,1]"
   ]
  },
  {
   "cell_type": "code",
   "execution_count": 18,
   "id": "30c84493",
   "metadata": {},
   "outputs": [],
   "source": [
    "n = len(tot)\n",
    "c = -val\n",
    "l1 = np.array(9*[0]+[1]+(n-10)*[0])\n",
    "l2 = np.array(10*[0]+[1]+(n-11)*[0])\n",
    "l3 = np.array(17*[0]+[1]+(n-18)*[0])\n",
    "A_ub = np.concatenate((cost,l1,l2,l3)).reshape((4,n))\n",
    "b_ub = np.array([485,2,1,1])\n",
    "\n",
    "l4 = np.array(3*[1]+(n-3)*[0])\n",
    "l5 = np.array(3*[0]+6*[1]+(n-9)*[0])\n",
    "l6 = np.array(9*[0]+6*[1]+(n-15)*[0])\n",
    "l7 = np.array(15*[0]+(n-15)*[1])\n",
    "A_eq = np.concatenate((l4,l5,l6,l7)).reshape((4,n)) # 433 formation\n",
    "b_eq = np.array([1,3,4,3])"
   ]
  },
  {
   "cell_type": "code",
   "execution_count": 19,
   "id": "eb1b33c8",
   "metadata": {},
   "outputs": [],
   "source": [
    "from scipy.optimize import linprog\n",
    "res = linprog(c, A_ub=A_ub, b_ub=b_ub, A_eq=A_eq, b_eq=b_eq, integrality=1)"
   ]
  },
  {
   "cell_type": "code",
   "execution_count": 20,
   "id": "fe087658",
   "metadata": {},
   "outputs": [
    {
     "data": {
      "text/plain": [
       "array([0., 1., 0., 3., 0., 0., 0., 0., 0., 0., 0., 0., 4., 0., 0., 1., 0.,\n",
       "       0., 0., 2., 0.])"
      ]
     },
     "execution_count": 20,
     "metadata": {},
     "output_type": "execute_result"
    }
   ],
   "source": [
    "res.x"
   ]
  },
  {
   "cell_type": "code",
   "execution_count": 21,
   "id": "c5b4d482",
   "metadata": {},
   "outputs": [
    {
     "data": {
      "text/plain": [
       "-73.37"
      ]
     },
     "execution_count": 21,
     "metadata": {},
     "output_type": "execute_result"
    }
   ],
   "source": [
    "res.fun"
   ]
  },
  {
   "cell_type": "markdown",
   "id": "2b6cc5d1",
   "metadata": {},
   "source": [
    "# General Function"
   ]
  },
  {
   "cell_type": "code",
   "execution_count": 22,
   "id": "6c4aaad5",
   "metadata": {},
   "outputs": [],
   "source": [
    "def f(formazione, crediti):\n",
    "    \n",
    "    x = formazione\n",
    "    z = crediti\n",
    "    \n",
    "    # Portieri\n",
    "    \n",
    "    p1 = [5.5, 35]\n",
    "    p2 = [5.3, 20]\n",
    "    p3 = [4.75, 5]\n",
    "\n",
    "    p = [p1,p2,p3]\n",
    "\n",
    "    # Difensori\n",
    "\n",
    "    d1 = [dif(4,5,2,0), 35] # terzino offensivo\n",
    "    d2 = [6.1, 22] # centrale forte\n",
    "    d3 = [dif(1,4,2,0), 10] # terzino titolare squadra medio-forte\n",
    "    d4 = [6.2, 8] # centrale squadra medio-forte (es Lazio, Atalanta)\n",
    "    d5 = [5.7, 1] # resto-terzini\n",
    "    d6 = [5.7, 1] # resto-centrali\n",
    "\n",
    "    d = [d1, d2, d3, d4, d5, d6]\n",
    "    \n",
    "    # Centrocampisti\n",
    "    \n",
    "    c1 = [cen(10,8,2), 95] # Kvara, Chiesa\n",
    "    c2 = [cen(8,8,3), 80] # SMS\n",
    "    # Zaccagni?\n",
    "    c3 = [cen(5,6,3), 50] # Trequartisti forti: Pellegrini, Chala, Felipe, Zielinski, Barella, Koop\n",
    "    c4 = [6.35, 18] # Mediani forti: Brozo, Locatelli, Anguissa, Tonali, Bennacer, Lobotka\n",
    "    c5 = [cen(3,5,2), 20] # Trequartisti medi: Miranchuk, Zaniolo, Bajrami, CDK, Barak, Luis Alberto, Pereyra\n",
    "    c6 = [5.8, 1] # Resto\n",
    "\n",
    "    c = [c1, c2, c3, c4, c5, c6]\n",
    "\n",
    "    # Attaccanti\n",
    "\n",
    "    a1 = [9, 210] # Osimhen, Vlahovic, Immobile, Lukaku?\n",
    "    a2 = [8.2, 180] # Lautaro, Abraham, Dybala\n",
    "    a3 = [att(10,8,2), 140] # Leao\n",
    "    a4 = [att(10,3,3), 80] # Arnautovic, Giroud, Zapata, Berardi, Milik, Beto\n",
    "    a5 = [att(4,4,2), 35] # Deulofeu, Pedro, Di Maria, Sanabria, Gonzalez, Cabral \n",
    "    a6 = [6, 1] # Resto \n",
    "\n",
    "    a = [a1, a2, a3, a4, a5, a6]\n",
    "    names = ['p1','p2','p3','d1','d2','d3','d4','d5','d6','c1','c2','c3','c4','c5','c6',\n",
    "            'a1','a2','a3','a4','a5','a6']\n",
    "\n",
    "    # Building the matrices for optimization\n",
    "    \n",
    "    t1 = [p, d, c, a]\n",
    "    t2 = sum(t1, [])\n",
    "    tot = np.array(t2)\n",
    "\n",
    "    val = tot[:,0]\n",
    "    cost = tot[:,1]\n",
    "    \n",
    "    n = len(tot)\n",
    "    c = -val\n",
    "    l1 = np.array(9*[0]+[1]+(n-10)*[0])\n",
    "    l2 = np.array(10*[0]+[1]+(n-11)*[0])\n",
    "    l3 = np.array(17*[0]+[1]+(n-18)*[0])\n",
    "    A_ub = np.concatenate((cost,l1,l2,l3)).reshape((4,n))\n",
    "    b_ub = np.array([z,2,1,1])\n",
    "\n",
    "    l4 = np.array(3*[1]+(n-3)*[0])\n",
    "    l5 = np.array(3*[0]+6*[1]+(n-9)*[0])\n",
    "    l6 = np.array(9*[0]+6*[1]+(n-15)*[0])\n",
    "    l7 = np.array(15*[0]+(n-15)*[1])\n",
    "    A_eq = np.concatenate((l4,l5,l6,l7)).reshape((4,n)) \n",
    "    \n",
    "    if x == 343:\n",
    "        b_eq = np.array([1,3,4,3])\n",
    "        \n",
    "    if x == 433:\n",
    "        b_eq = np.array([1,4,3,3])\n",
    "        \n",
    "    if x == 352:\n",
    "        b_eq = np.array([1,3,5,2])\n",
    "        \n",
    "    res = linprog(c, A_ub=A_ub, b_ub=b_ub, A_eq=A_eq, b_eq=b_eq, integrality=1)\n",
    "        \n",
    "        # 4: Showing Results\n",
    "        \n",
    "    final_names = []\n",
    "    for i in range(len(list(res.x))):\n",
    "        if 0.9 < list(res.x)[i] < 10:\n",
    "            final_names.append(int(res.x[i])*[names[i]])\n",
    "                \n",
    "        \n",
    "    return [res.fun, final_names]"
   ]
  },
  {
   "cell_type": "code",
   "execution_count": 23,
   "id": "f68d0175",
   "metadata": {},
   "outputs": [
    {
     "name": "stdout",
     "output_type": "stream",
     "text": [
      "Max:  72.91300000000001\n",
      "Max:  73.113\n",
      "Max:  73.37400000000001\n",
      "Max:  73.37400000000001\n",
      "Max:  73.57400000000001\n"
     ]
    },
    {
     "data": {
      "image/png": "[encoded data removed]",
      "text/plain": [
       "<Figure size 432x288 with 1 Axes>"
      ]
     },
     "metadata": {
      "needs_background": "light"
     },
     "output_type": "display_data"
    },
    {
     "data": {
      "image/png": "[encoded data removed]",
      "text/plain": [
       "<Figure size 432x288 with 1 Axes>"
      ]
     },
     "metadata": {
      "needs_background": "light"
     },
     "output_type": "display_data"
    },
    {
     "data": {
      "image/png": "[encoded data removed]",
      "text/plain": [
       "<Figure size 432x288 with 1 Axes>"
      ]
     },
     "metadata": {
      "needs_background": "light"
     },
     "output_type": "display_data"
    },
    {
     "data": {
      "image/png": "[encoded data removed]",
      "text/plain": [
       "<Figure size 432x288 with 1 Axes>"
      ]
     },
     "metadata": {
      "needs_background": "light"
     },
     "output_type": "display_data"
    },
    {
     "data": {
      "image/png": "[encoded data removed]",
      "text/plain": [
       "<Figure size 432x288 with 1 Axes>"
      ]
     },
     "metadata": {
      "needs_background": "light"
     },
     "output_type": "display_data"
    }
   ],
   "source": [
    "form = [343,433,352]\n",
    "for cred in range(450,500,10):\n",
    "    score = []\n",
    "    for ff in form:\n",
    "        score.append(-f(ff,cred)[0])\n",
    "    plt.figure()\n",
    "    plt.plot(score,'b*-')\n",
    "    plt.plot(len(score)*[72])\n",
    "    plt.title(f'Scores with {cred} cred')\n",
    "    plt.xticks(range(3),form)\n",
    "    print('Max: ', max(score))"
   ]
  },
  {
   "cell_type": "code",
   "execution_count": 24,
   "id": "58bc651c",
   "metadata": {},
   "outputs": [
    {
     "data": {
      "text/plain": [
       "[-72.91300000000001,\n",
       " [['p2'], ['d1', 'd1', 'd1'], ['c1', 'c1'], ['c5', 'c5', 'c5'], ['a5', 'a5']]]"
      ]
     },
     "execution_count": 24,
     "metadata": {},
     "output_type": "execute_result"
    }
   ],
   "source": [
    "f(352,450)"
   ]
  },
  {
   "cell_type": "code",
   "execution_count": null,
   "id": "37aff09d",
   "metadata": {},
   "outputs": [],
   "source": []
  }
 ],
 "metadata": {
  "kernelspec": {
   "display_name": "Python 3",
   "language": "python",
   "name": "python3"
  },
  "language_info": {
   "codemirror_mode": {
    "name": "ipython",
    "version": 3
   },
   "file_extension": ".py",
   "mimetype": "text/x-python",
   "name": "python",
   "nbconvert_exporter": "python",
   "pygments_lexer": "ipython3",
   "version": "3.8.8"
  }
 },
 "nbformat": 4,
 "nbformat_minor": 5
}
