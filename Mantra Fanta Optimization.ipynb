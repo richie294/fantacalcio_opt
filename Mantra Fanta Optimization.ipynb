{
 "cells": [
  {
   "cell_type": "code",
   "execution_count": 1,
   "id": "e7714256",
   "metadata": {},
   "outputs": [],
   "source": [
    "import numpy as np\n",
    "from scipy.optimize import linprog\n",
    "import matplotlib.pyplot as plt"
   ]
  },
  {
   "cell_type": "code",
   "execution_count": 2,
   "id": "5e6d2153",
   "metadata": {},
   "outputs": [],
   "source": [
    "def por(gs):\n",
    "    return 5.86-0.0226*gs"
   ]
  },
  {
   "cell_type": "code",
   "execution_count": 3,
   "id": "9bd1eed9",
   "metadata": {},
   "outputs": [],
   "source": [
    "def dif(gf,ass,amm,esp):\n",
    "    return 5.83 + 0.15*gf + 0.06*ass - 0.02*amm - 0.1*esp"
   ]
  },
  {
   "cell_type": "code",
   "execution_count": 4,
   "id": "2382750f",
   "metadata": {},
   "outputs": [],
   "source": [
    "def cen(gf,ass,amm,esp):\n",
    "    return 5.9 + 0.12*gf + 0.055*ass - 0.02*amm - 0.065*esp"
   ]
  },
  {
   "cell_type": "code",
   "execution_count": 5,
   "id": "0a8ee9d5",
   "metadata": {},
   "outputs": [],
   "source": [
    "def att(gf,ass,amm):\n",
    "    return 5.925 + 0.105*gf + 0.06*ass - 0.028*amm"
   ]
  },
  {
   "cell_type": "markdown",
   "id": "736c1d5e",
   "metadata": {},
   "source": [
    "# Giocatori"
   ]
  },
  {
   "cell_type": "code",
   "execution_count": 6,
   "id": "eaafc36b",
   "metadata": {},
   "outputs": [],
   "source": [
    "p1 = [por(35), 35, ['p']]\n",
    "p2 = [por(48), 10, ['p']]\n",
    "\n",
    "p = np.matrix([p1[:2],p2[:2]])\n",
    "p_names = ['First Tier Goalie', 'Second Tier Goalie']"
   ]
  },
  {
   "cell_type": "code",
   "execution_count": 7,
   "id": "e8f9c749",
   "metadata": {},
   "outputs": [],
   "source": [
    "# per ora non faccio difesa, perchè non ho la variabile gol subiti che conta troppo,\n",
    "# posso sempre fare centrocampo e attacco e allocare un budget per la difesa"
   ]
  },
  {
   "cell_type": "code",
   "execution_count": 8,
   "id": "0f32b358",
   "metadata": {},
   "outputs": [],
   "source": [
    "brz = [cen(2,4,5,0), 20, ['m']]\n",
    "genm = [cen(0,0,5,0), 2, ['m']]\n",
    "\n",
    "m = np.matrix([brz[:2],genm[:2]])\n",
    "m_names = ['Brozovic', 'General m']"
   ]
  },
  {
   "cell_type": "code",
   "execution_count": 9,
   "id": "65c8aba4",
   "metadata": {},
   "outputs": [],
   "source": [
    "sms = [cen(8,10,4,0), 70, ['c','t']]\n",
    "bar = [cen(5,8,7,0), 40, ['c']]\n",
    "zie = [cen(5,10,3,0), 35, ['c','t']]\n",
    "kop = [cen(5,10,3,0), 35, ['c','t']]\n",
    "pog = [cen(7,5,3,0), 55, ['c','t']]\n",
    "fra = [cen(5,3,3,0), 20, ['c']]\n",
    "wij = [cen(3,3,5,0), 20, ['c','t']]\n",
    "rab = [cen(4,2,5,0), 20, ['c']]\n",
    "ang = [cen(2,4,5,0), 20, ['m','c']]\n",
    "ton = [cen(2,4,5,0), 20, ['m','c']]\n",
    "lob = [cen(2,3,5,0), 20, ['m','c']]\n",
    "genc1 = [cen(2,3,5,0), 5, ['c']]\n",
    "genc2 = [cen(0,2,5,0), 2, ['c']]\n",
    "\n",
    "c = np.matrix([sms[:2],bar[:2],zie[:2],kop[:2],pog[:2],fra[:2],wij[:2],rab[:2],\n",
    "              ang[:2],ton[:2],lob[:2],genc1[:2],genc2[:2]])\n",
    "c_names = ['SMS', 'Barella', 'Zielinski','Koop','Pogba','Frattesi','Wijnaldum',\n",
    "          'Rabiot','Anguissa','Tonali','Lobotka','General c Tier 1','General c Tier 2']"
   ]
  },
  {
   "cell_type": "code",
   "execution_count": 10,
   "id": "e2efe5d3",
   "metadata": {},
   "outputs": [],
   "source": [
    "lal = [cen(4,8,2,0), 25, ['t']]\n",
    "mir = [cen(5,5,2,0), 25, ['t','a']]\n",
    "# dzb = [cen(5,5,2,0), 25, ['t','w']] di base non è titolare\n",
    "cal = [cen(5,8,2,0), 30, ['t']]\n",
    "per = [cen(3,5,2,0), 20, ['t','w']]\n",
    "pel = [cen(5,8,2,0), 35, ['t']]\n",
    "luk = [cen(2,2,2,0), 8, ['t','c']]\n",
    "pas = [cen(4,3,2,0), 25, ['t']]\n",
    "dek = [cen(5,8,2,0), 40, ['t','a']]\n",
    "gent1 = [cen(2,3,2,0), 7, ['t']]\n",
    "gent2 = [cen(0,2,2,0), 2, ['t']]\n",
    "\n",
    "t = np.matrix([lal[:2],mir[:2],cal[:2],per[:2],pel[:2],luk[:2],pas[:2],dek[:2],\n",
    "              gent1[:2],gent2[:2]])\n",
    "t_names = ['Luis Alberto','Miranchuk','Calhanoglu','Pereyra','Pellegrini','Lukic',\n",
    "          'Pasalic','De Ketelare','General t Tier 1','General t Tier 2']"
   ]
  },
  {
   "cell_type": "code",
   "execution_count": 11,
   "id": "2ea339fb",
   "metadata": {},
   "outputs": [],
   "source": [
    "loo = [att(8,5,2), 60, ['a','w']]\n",
    "kva = [cen(10,10,2,0), 80, ['a','w']]\n",
    "zac = [cen(8,5,2,0), 60, ['a','w']]\n",
    "fel = [cen(6,4,2,0), 40, ['a','w']]\n",
    "ors = [cen(4,2,2,0), 10, ['a','w']]\n",
    "chi = [cen(10,10,2,0), 80, ['a','w']]\n",
    "genw1 = [cen(3,3,2,0), 10, ['w']]\n",
    "genw2 = [cen(1,2,2,0), 3, ['w']]\n",
    "\n",
    "w = np.matrix([loo[:2],kva[:2],zac[:2],fel[:2],ors[:2],chi[:2],genw1[:2],genw2[:2]])\n",
    "w_names = ['Lookman','Kvara','Zaccagni','Felipe And','Orsolini','Chiesa',\n",
    "          'General w Tier 1','General w Tier 2']"
   ]
  },
  {
   "cell_type": "code",
   "execution_count": 12,
   "id": "7388493e",
   "metadata": {},
   "outputs": [],
   "source": [
    "dyb = [att(12,10,2), 105, ['a']]\n",
    "lea = [att(12,10,2), 105, ['a']]\n",
    "dim = [att(6,8,2), 40, ['a']]\n",
    "ber = [att(7,6,2), 60, ['a']]\n",
    "gena1 = [att(3,2,2), 5, ['a']]\n",
    "gena2 = [att(1,2,2), 2, ['a']]\n",
    "\n",
    "a = np.matrix([dyb[:2],lea[:2],dim[:2],ber[:2],gena1[:2],gena2[:2]])\n",
    "a_names = ['Dybala','Leao','Di Maria','Berardi','General a Tier 1','General a Tier 2']"
   ]
  },
  {
   "cell_type": "code",
   "execution_count": 13,
   "id": "633f4df4",
   "metadata": {},
   "outputs": [],
   "source": [
    "osi = [att(28,3,2), 130, ['pc']]\n",
    "vla = [att(28,1,2), 130, ['pc']]\n",
    "imm = [att(25,1,2), 130, ['pc']]\n",
    "luk = [att(25,1,2), 120, ['pc']]\n",
    "lau = [att(22,3,2), 115, ['pc']]\n",
    "gir = [att(12,3,2), 35, ['pc']]\n",
    "bet = [att(10,0,2), 25, ['pc']]\n",
    "abr = [att(18,3,2), 110, ['pc']]\n",
    "san = [att(8,3,2), 18, ['pc']]\n",
    "pin = [att(10,3,2), 25, ['pc']]\n",
    "zap = [att(16,3,2), 80, ['pc']]\n",
    "arn = [att(14,3,2), 45, ['pc']]\n",
    "genpc1 = [att(4,2,2), 5, ['pc']]\n",
    "genpc2 = [att(2,0,2), 2, ['pc']]\n",
    "\n",
    "pc = np.matrix([osi[:2],vla[:2],imm[:2],luk[:2],lau[:2],gir[:2],bet[:2],abr[:2],\n",
    "                san[:2],pin[:2],zap[:2],arn[:2],genpc1[:2],genpc2[:2]])\n",
    "pc_names = ['Osimhen','Vlahovic','Immobile','Lukaku','Lautaro','Giroud','Beto','Abraham',\n",
    "           'Sanabria','Pinamonti','Zapata','Arnautovic', 'General pc Tier 1','General pc Tier 2']"
   ]
  },
  {
   "cell_type": "code",
   "execution_count": 14,
   "id": "4efb263e",
   "metadata": {},
   "outputs": [],
   "source": [
    "tot = [p_names,m_names,c_names,t_names,w_names,a_names,pc_names]\n",
    "names = [item for sublist in tot for item in sublist]"
   ]
  },
  {
   "cell_type": "code",
   "execution_count": 15,
   "id": "00afb2bb",
   "metadata": {},
   "outputs": [],
   "source": [
    "ruoli = ['p','m','c','t','w','a','pc']"
   ]
  },
  {
   "cell_type": "code",
   "execution_count": 16,
   "id": "efcf5c1d",
   "metadata": {},
   "outputs": [],
   "source": [
    "gioc = np.concatenate((p,m,c,t,w,a,pc))"
   ]
  },
  {
   "cell_type": "markdown",
   "id": "463e042b",
   "metadata": {},
   "source": [
    "# General Function"
   ]
  },
  {
   "cell_type": "code",
   "execution_count": 34,
   "id": "4eccbaff",
   "metadata": {},
   "outputs": [],
   "source": [
    "def f(formazione, crediti):\n",
    "    \n",
    "    x = formazione\n",
    "    z = crediti\n",
    "    \n",
    "    # 1: Player Data\n",
    "    \n",
    "    # P\n",
    "    \n",
    "    p1 = [por(35), 35, ['p']]\n",
    "    p2 = [por(48), 10, ['p']]\n",
    "\n",
    "    p = np.matrix([p1[:2],p2[:2]])\n",
    "    p_names = ['First Tier Goalie', 'Second Tier Goalie']\n",
    "    \n",
    "    # M\n",
    "    \n",
    "    brz = [cen(2,4,5,0), 20, ['m']]\n",
    "    genm = [cen(0,0,5,0), 2, ['m']]\n",
    "\n",
    "    m = np.matrix([brz[:2],genm[:2]])\n",
    "    m_names = ['Brozovic', 'General m']\n",
    "    \n",
    "    # C\n",
    "    \n",
    "    sms = [cen(8,10,4,0), 70, ['c','t']]\n",
    "    bar = [cen(5,8,7,0), 40, ['c']]\n",
    "    zie = [cen(5,10,3,0), 35, ['c','t']]\n",
    "    kop = [cen(5,10,3,0), 35, ['c','t']]\n",
    "    pog = [cen(7,5,3,0), 55, ['c','t']]\n",
    "    fra = [cen(5,3,3,0), 20, ['c']]\n",
    "    wij = [cen(3,3,5,0), 20, ['c','t']]\n",
    "    rab = [cen(4,2,5,0), 20, ['c']]\n",
    "    ang = [cen(2,4,5,0), 20, ['m','c']]\n",
    "    ton = [cen(2,4,5,0), 20, ['m','c']]\n",
    "    lob = [cen(2,3,5,0), 20, ['m','c']]\n",
    "    genc1 = [cen(2,3,5,0), 5, ['c']]\n",
    "    genc2 = [cen(0,2,5,0), 2, ['c']]\n",
    "\n",
    "    c = np.matrix([sms[:2],bar[:2],zie[:2],kop[:2],pog[:2],fra[:2],wij[:2],rab[:2],\n",
    "                  ang[:2],ton[:2],lob[:2],genc1[:2],genc2[:2]])\n",
    "    c_names = ['SMS', 'Barella', 'Zielinski','Koop','Pogba','Frattesi','Wijnaldum',\n",
    "              'Rabiot','Anguissa','Tonali','Lobotka','General c Tier 1','General c Tier 2']\n",
    "    \n",
    "    # T\n",
    "    \n",
    "    lal = [cen(4,8,2,0), 25, ['t']]\n",
    "    mir = [cen(5,5,2,0), 25, ['t','a']]\n",
    "    # dzb = [cen(5,5,2,0), 25, ['t','w']] di base non è titolare\n",
    "    cal = [cen(5,8,2,0), 30, ['t']]\n",
    "    per = [cen(3,5,2,0), 20, ['t','w']]\n",
    "    pel = [cen(5,8,2,0), 35, ['t']]\n",
    "    luk = [cen(2,2,2,0), 8, ['t','c']]\n",
    "    pas = [cen(4,3,2,0), 25, ['t']]\n",
    "    dek = [cen(5,8,2,0), 25, ['t','a']]\n",
    "    gent1 = [cen(2,3,2,0), 7, ['t']]\n",
    "    gent2 = [cen(0,2,2,0), 2, ['t']]\n",
    "\n",
    "    t = np.matrix([lal[:2],mir[:2],cal[:2],per[:2],pel[:2],luk[:2],pas[:2],dek[:2],\n",
    "                  gent1[:2],gent2[:2]])\n",
    "    t_names = ['Luis Alberto','Miranchuk','Calhanoglu','Pereyra','Pellegrini','Lukic',\n",
    "              'Pasalic','De Ketelare','General t Tier 1','General t Tier 2']\n",
    "    \n",
    "    # W\n",
    "    \n",
    "    loo = [att(8,5,2), 60, ['a','w']]\n",
    "    kva = [cen(10,10,2,0), 80, ['a','w']]\n",
    "    zac = [cen(8,5,2,0), 60, ['a','w']]\n",
    "    fel = [cen(6,4,2,0), 40, ['a','w']]\n",
    "    ors = [cen(4,2,2,0), 10, ['a','w']]\n",
    "    chi = [cen(10,10,2,0), 80, ['a','w']]\n",
    "    genw1 = [cen(3,3,2,0), 10, ['w']]\n",
    "    genw2 = [cen(1,2,2,0), 3, ['w']]\n",
    "\n",
    "    w = np.matrix([loo[:2],kva[:2],zac[:2],fel[:2],ors[:2],chi[:2],genw1[:2],genw2[:2]])\n",
    "    w_names = ['Lookman','Kvara','Zaccagni','Felipe And','Orsolini','Chiesa',\n",
    "              'General w Tier 1','General w Tier 2']\n",
    "    \n",
    "    # A \n",
    "    \n",
    "    dyb = [att(12,10,2), 105, ['a']]\n",
    "    lea = [att(12,10,2), 105, ['a']]\n",
    "    dim = [att(6,8,2), 40, ['a']]\n",
    "    ber = [att(7,6,2), 60, ['a']]\n",
    "    gena1 = [att(3,2,2), 5, ['a']]\n",
    "    gena2 = [att(1,2,2), 2, ['a']]\n",
    "\n",
    "    a = np.matrix([dyb[:2],lea[:2],dim[:2],ber[:2],gena1[:2],gena2[:2]])\n",
    "    a_names = ['Dybala','Leao','Di Maria','Berardi','General a Tier 1','General a Tier 2']\n",
    "    \n",
    "    # PC\n",
    "    \n",
    "    osi = [att(28,3,2), 130, ['pc']]\n",
    "    vla = [att(28,1,2), 130, ['pc']]\n",
    "    imm = [att(25,1,2), 130, ['pc']]\n",
    "    luk = [att(25,1,2), 120, ['pc']]\n",
    "    lau = [att(22,3,2), 115, ['pc']]\n",
    "    gir = [att(9,3,2), 35, ['pc']]\n",
    "    bet = [att(8,0,2), 25, ['pc']]\n",
    "    abr = [att(18,3,2), 110, ['pc']]\n",
    "    san = [att(6,3,2), 18, ['pc']]\n",
    "    pin = [att(6,3,2), 20, ['pc']]\n",
    "    zap = [att(10,3,2), 30, ['pc']]\n",
    "    arn = [att(10,3,2), 45, ['pc']]\n",
    "    genpc1 = [att(4,2,2), 5, ['pc']]\n",
    "    genpc2 = [att(2,0,2), 2, ['pc']]\n",
    "\n",
    "    pc = np.matrix([osi[:2],vla[:2],imm[:2],luk[:2],lau[:2],gir[:2],bet[:2],abr[:2],\n",
    "                    san[:2],pin[:2],zap[:2],arn[:2],genpc1[:2],genpc2[:2]])\n",
    "    pc_names = ['Osimhen','Vlahovic','Immobile','Lukaku','Lautaro','Giroud','Beto','Abraham',\n",
    "               'Sanabria','Pinamonti','Zapata','Arnautovic', 'General pc Tier 1','General pc Tier 2']\n",
    "    \n",
    "    # Putting it all together\n",
    "    \n",
    "    tot = [p_names,m_names,c_names,t_names,w_names,a_names,pc_names]\n",
    "    names = [item for sublist in tot for item in sublist]\n",
    "    ruoli = ['p','m','c','t','w','a','pc']\n",
    "    gioc = np.concatenate((p,m,c,t,w,a,pc))\n",
    "    \n",
    "    \n",
    "    \n",
    "    # 2: Inserting the lineup:\n",
    "    \n",
    "    \n",
    "    temp = np.eye(55)\n",
    "    if x == 343:\n",
    "        b_eq = np.array([6, 1, 2, 3]) #P=1 #M+C=2 #W+A+PC=3\n",
    "        A_eq = np.concatenate((np.array(55*[1]).reshape(1,55),\n",
    "                               np.array(2*[1]+53*[0]).reshape((1,55)), \n",
    "                               np.array(2*[0]+15*[1]+38*[0]).reshape((1,55)),\n",
    "                               np.array(27*[0]+28*[1]).reshape((1,55))))\n",
    "\n",
    "\n",
    "        b_ub = np.array([z]+42*[1]+[1,2,2,2,1]) #M<=1 #C<=2 #W<=2 #A<=2 #PC<=1\n",
    "        A_ub = np.concatenate((gioc[:,1].transpose(),\n",
    "                                temp[2,:].reshape(1,55), temp[4:15,:], temp[17:25], temp[27:33,:],\n",
    "                                temp[35:39,:], temp[41:53,:],\n",
    "                                np.array(2*[0]+2*[1]+51*[0]).reshape((1,55)),\n",
    "                                np.array(4*[0]+13*[1]+38*[0]).reshape((1,55)),\n",
    "                                np.array(27*[0]+8*[1]+20*[0]).reshape((1,55)),\n",
    "                                np.array(35*[0]+6*[1]+14*[0]).reshape((1,55)),\n",
    "                                np.array(41*[0]+14*[1]).reshape((1,55)),\n",
    "                              ))\n",
    "        \n",
    "    if x == 3412:\n",
    "            b_eq = np.array([6, 1, 2, 1, 2]) #P=1 #M+C=2 #T=1 #A+PC=2\n",
    "            A_eq = np.concatenate((np.array(55*[1]).reshape(1,55),\n",
    "                                   np.array(2*[1]+53*[0]).reshape((1,55)), \n",
    "                                   np.array(2*[0]+15*[1]+38*[0]).reshape((1,55)),\n",
    "                                   np.array(17*[0]+10*[1]+28*[0]).reshape((1,55)), \n",
    "                                   np.array(35*[0]+20*[1]).reshape((1,55))))\n",
    "\n",
    "    \n",
    "            b_ub = np.array([z]+42*[1]+[1,2,2,2]) #M<=1 #C<=2 #A<=2 #PC<=2\n",
    "            A_ub = np.concatenate((gioc[:,1].transpose(),\n",
    "                                    temp[2,:].reshape(1,55), temp[4:15,:], temp[17:25], temp[27:33,:],\n",
    "                                    temp[35:39,:], temp[41:53,:],\n",
    "                                    np.array(2*[0]+2*[1]+51*[0]).reshape((1,55)),\n",
    "                                    np.array(4*[0]+13*[1]+38*[0]).reshape((1,55)),\n",
    "                                    np.array(35*[0]+6*[1]+14*[0]).reshape((1,55)),\n",
    "                                    np.array(41*[0]+14*[1]).reshape((1,55)),\n",
    "                                  ))\n",
    "            \n",
    "    if x == 3421:\n",
    "            b_eq = np.array([7, 1, 2, 1, 3]) #P=1 #M+C=2 #W=1 #T+A+PC=3\n",
    "            A_eq = np.concatenate((np.array(55*[1]).reshape(1,55),\n",
    "                                   np.array(2*[1]+53*[0]).reshape((1,55)), \n",
    "                                   np.array(2*[0]+15*[1]+38*[0]).reshape((1,55)),\n",
    "                                   np.array(27*[0]+8*[1]+20*[0]).reshape((1,55)),\n",
    "                                   np.array(17*[0]+10*[1]+8*[0]+20*[1]).reshape((1,55))))\n",
    "\n",
    "\n",
    "            b_ub = np.array([z]+42*[1]+[2,1,2,2,1]) #M<=2 #C<=1 #T<=2 #A<=2 #PC<=1\n",
    "            A_ub = np.concatenate((gioc[:,1].transpose(),\n",
    "                                    temp[2,:].reshape(1,55), temp[4:15,:], temp[17:25], temp[27:33,:],\n",
    "                                    temp[35:39,:], temp[41:53,:],\n",
    "                                    np.array(2*[0]+2*[1]+51*[0]).reshape((1,55)),\n",
    "                                    np.array(4*[0]+13*[1]+38*[0]).reshape((1,55)),\n",
    "                                    np.array(17*[0]+10*[1]+28*[0]).reshape((1,55)), \n",
    "                                    np.array(35*[0]+6*[1]+14*[0]).reshape((1,55)),\n",
    "                                    np.array(41*[0]+14*[1]).reshape((1,55)),\n",
    "                                  ))\n",
    "        \n",
    "    if x == 352:\n",
    "            b_eq = np.array([7, 1, 3, 1, 2]) #P=1 #M+C=3 #W=1 #A+PC=2\n",
    "            A_eq = np.concatenate((np.array(55*[1]).reshape(1,55),\n",
    "                                   np.array(2*[1]+53*[0]).reshape((1,55)), \n",
    "                                   np.array(2*[0]+15*[1]+38*[0]).reshape((1,55)),\n",
    "                                   np.array(27*[0]+8*[1]+20*[0]).reshape((1,55)),\n",
    "                                   np.array(35*[0]+20*[1]).reshape((1,55))))\n",
    "\n",
    "\n",
    "            b_ub = np.array([z]+42*[1]+[2,2,2,2]) #M<=2 #C<=2 #A<=2 #PC<=2\n",
    "            A_ub = np.concatenate((gioc[:,1].transpose(),\n",
    "                                    temp[2,:].reshape(1,55), temp[4:15,:], temp[17:25], temp[27:33,:],\n",
    "                                    temp[35:39,:], temp[41:53,:],\n",
    "                                    np.array(2*[0]+2*[1]+51*[0]).reshape((1,55)),\n",
    "                                    np.array(4*[0]+13*[1]+38*[0]).reshape((1,55)),\n",
    "                                    np.array(35*[0]+6*[1]+14*[0]).reshape((1,55)),\n",
    "                                    np.array(41*[0]+14*[1]).reshape((1,55))))\n",
    "                                   \n",
    "        \n",
    "    if x == 3511:\n",
    "            b_eq = np.array([8, 1, 2, 1, 2, 2]) #P=1 #M=2 #C=1 #W=2 #T+A+PC=2\n",
    "            A_eq = np.concatenate((np.array(55*[1]).reshape(1,55),\n",
    "                                   np.array(2*[1]+53*[0]).reshape((1,55)), \n",
    "                                   np.array(2*[0]+2*[1]+51*[0]).reshape((1,55)),\n",
    "                                   np.array(4*[0]+13*[1]+38*[0]).reshape((1,55)),\n",
    "                                   np.array(27*[0]+8*[1]+20*[0]).reshape((1,55)),\n",
    "                                   np.array(17*[0]+10*[1]+8*[0]+20*[1]).reshape((1,55))\n",
    "                                  ))\n",
    "\n",
    "\n",
    "            b_ub = np.array([z]+42*[1]+[1,2,1]) #T<=1 #A<=2 #PC<=1\n",
    "            A_ub = np.concatenate((gioc[:,1].transpose(),\n",
    "                                    temp[2,:].reshape(1,55), temp[4:15,:], temp[17:25], temp[27:33,:],\n",
    "                                    temp[35:39,:], temp[41:53,:],\n",
    "                                    np.array(17*[0]+10*[1]+28*[0]).reshape((1,55)), \n",
    "                                    np.array(35*[0]+6*[1]+14*[0]).reshape((1,55)),\n",
    "                                    np.array(41*[0]+14*[1]).reshape((1,55))))\n",
    "                                   \n",
    "                \n",
    "    if x == 433:\n",
    "            b_eq = np.array([7, 1, 3, 3]) #P=1 #M+C=3 #A+W+PC=3\n",
    "            A_eq = np.concatenate((np.array(55*[1]).reshape(1,55),\n",
    "                                   np.array(2*[1]+53*[0]).reshape((1,55)), \n",
    "                                   np.array(2*[0]+15*[1]+38*[0]).reshape((1,55)),\n",
    "                                   np.array(27*[0]+28*[1]).reshape((1,55))\n",
    "                                  ))\n",
    "           \n",
    "\n",
    "            b_ub = np.array([z]+42*[1]+[2,2,2,3,1]) #M<=2 #C<=2 #W<=2 #A<=3 #PC<=1\n",
    "            A_ub = np.concatenate((gioc[:,1].transpose(),\n",
    "                                    temp[2,:].reshape(1,55), temp[4:15,:], temp[17:25], temp[27:33,:],\n",
    "                                    temp[35:39,:], temp[41:53,:],\n",
    "                                    np.array(2*[0]+2*[1]+51*[0]).reshape((1,55)),\n",
    "                                    np.array(4*[0]+13*[1]+38*[0]).reshape((1,55)),\n",
    "                                    np.array(27*[0]+8*[1]+20*[0]).reshape((1,55)),\n",
    "                                    np.array(35*[0]+6*[1]+14*[0]).reshape((1,55)),\n",
    "                                    np.array(41*[0]+14*[1]).reshape((1,55))))\n",
    "                                   \n",
    "                \n",
    "    if x == 4312:\n",
    "            b_eq = np.array([7, 1, 3, 3]) #P=1 #M+C=3 #T+A+PC=3\n",
    "            A_eq = np.concatenate((np.array(55*[1]).reshape(1,55),\n",
    "                                   np.array(2*[1]+53*[0]).reshape((1,55)), \n",
    "                                   np.array(2*[0]+15*[1]+38*[0]).reshape((1,55)),\n",
    "                                   np.array(17*[0]+10*[1]+8*[0]+20*[1]).reshape((1,55))\n",
    "                                  ))\n",
    "\n",
    "\n",
    "            b_ub = np.array([z]+42*[1]+[2,2,2,2,2]) #M<=2 #C<=2 #T<=2 #A<=2 #PC<=2\n",
    "            A_ub = np.concatenate((gioc[:,1].transpose(),\n",
    "                                    temp[2,:].reshape(1,55), temp[4:15,:], temp[17:25], temp[27:33,:],\n",
    "                                    temp[35:39,:], temp[41:53,:],\n",
    "                                    np.array(2*[0]+2*[1]+51*[0]).reshape((1,55)),\n",
    "                                    np.array(4*[0]+13*[1]+38*[0]).reshape((1,55)),\n",
    "                                    np.array(17*[0]+10*[1]+28*[0]).reshape((1,55)), \n",
    "                                    np.array(35*[0]+6*[1]+14*[0]).reshape((1,55)),\n",
    "                                    np.array(41*[0]+14*[1]).reshape((1,55))))\n",
    "                                   \n",
    "                \n",
    "    if x == 442:\n",
    "            b_eq = np.array([6, 1, 2, 1, 2]) #P=1 #M+C=2 #W=1 #A+PC=2\n",
    "            A_eq = np.concatenate((np.array(55*[1]).reshape(1,55),\n",
    "                                   np.array(2*[1]+53*[0]).reshape((1,55)), \n",
    "                                   np.array(2*[0]+15*[1]+38*[0]).reshape((1,55)),\n",
    "                                   np.array(27*[0]+8*[1]+20*[0]).reshape((1,55)),\n",
    "                                   np.array(35*[0]+20*[1]).reshape((1,55))))\n",
    "\n",
    "\n",
    "            b_ub = np.array([z]+42*[1]+[1,2,2,2]) #M<=1 #C<=2 #A<=2 #PC<=2\n",
    "            A_ub = np.concatenate((gioc[:,1].transpose(),\n",
    "                                    temp[2,:].reshape(1,55), temp[4:15,:], temp[17:25], temp[27:33,:],\n",
    "                                    temp[35:39,:], temp[41:53,:],\n",
    "                                    np.array(2*[0]+2*[1]+51*[0]).reshape((1,55)),\n",
    "                                    np.array(4*[0]+13*[1]+38*[0]).reshape((1,55)),\n",
    "                                    np.array(35*[0]+6*[1]+14*[0]).reshape((1,55)),\n",
    "                                    np.array(41*[0]+14*[1]).reshape((1,55))))\n",
    "        \n",
    "    if x == 4141: \n",
    "            b_eq = np.array([7, 1, 1, 2, 2, 1]) #P=1 #M=1 #C+T=2 #W=2 #A+PC=1\n",
    "            A_eq = np.concatenate((np.array(55*[1]).reshape(1,55),\n",
    "                                   np.array(2*[1]+53*[0]).reshape((1,55)),\n",
    "                                   np.array(2*[0]+2*[1]+51*[0]).reshape((1,55)),\n",
    "                                   np.array(4*[0]+23*[1]+28*[0]).reshape((1,55)),\n",
    "                                   np.array(27*[0]+8*[1]+20*[0]).reshape((1,55)), \n",
    "                                   np.array(35*[0]+20*[1]).reshape((1,55))))\n",
    "\n",
    "\n",
    "            b_ub = np.array([z]+42*[1]+[1,2,1,1]) #C<=1 # T<=2 #A<=1 #PC<=1\n",
    "            A_ub = np.concatenate((gioc[:,1].transpose(),\n",
    "                                    temp[2,:].reshape(1,55), temp[4:15,:], temp[17:25], temp[27:33,:],\n",
    "                                    temp[35:39,:], temp[41:53,:],\n",
    "                                    np.array(4*[0]+13*[1]+38*[0]).reshape((1,55)),\n",
    "                                    np.array(17*[0]+10*[1]+28*[0]).reshape((1,55)),\n",
    "                                    np.array(35*[0]+6*[1]+14*[0]).reshape((1,55)),\n",
    "                                    np.array(41*[0]+14*[1]).reshape((1,55))\n",
    "                                  ))\n",
    "                                   \n",
    "                \n",
    "    if x == 4411: \n",
    "            b_eq = np.array([7, 1, 1, 1, 2, 2]) #P=1 #M=1 #C=1 #W=2 #A+PC+T=2\n",
    "            A_eq = np.concatenate((np.array(55*[1]).reshape(1,55),\n",
    "                                   np.array(2*[1]+53*[0]).reshape((1,55)),\n",
    "                                   np.array(2*[0]+2*[1]+51*[0]).reshape((1,55)),\n",
    "                                   np.array(4*[0]+13*[1]+38*[0]).reshape((1,55)),\n",
    "                                   np.array(27*[0]+8*[1]+20*[0]).reshape((1,55)), \n",
    "                                   np.array(17*[0]+10*[1]+8*[0]+20*[1]).reshape((1,55))\n",
    "                                  ))\n",
    "\n",
    "\n",
    "            b_ub = np.array([z]+42*[1]+[1,2,1]) #T<=1 #A<=2 #PC<=1\n",
    "            A_ub = np.concatenate((gioc[:,1].transpose(),\n",
    "                                    temp[2,:].reshape(1,55), temp[4:15,:], temp[17:25], temp[27:33,:],\n",
    "                                    temp[35:39,:], temp[41:53,:],\n",
    "                                    np.array(17*[0]+10*[1]+28*[0]).reshape((1,55)),\n",
    "                                    np.array(35*[0]+6*[1]+14*[0]).reshape((1,55)),\n",
    "                                    np.array(41*[0]+14*[1]).reshape((1,55))\n",
    "                                  ))\n",
    "            \n",
    "    if x == 4231:\n",
    "            b_eq = np.array([7, 1, 2, 2, 2]) #P=1 #M+C=2 #W+T=2 #A+PC=2\n",
    "            A_eq = np.concatenate((np.array(55*[1]).reshape(1,55),\n",
    "                                   np.array(2*[1]+53*[0]).reshape((1,55)), \n",
    "                                   np.array(2*[0]+15*[1]+38*[0]).reshape((1,55)),\n",
    "                                   np.array(17*[0]+10*[1]+28*[0]).reshape((1,55)), \n",
    "                                   np.array(35*[0]+20*[1]).reshape((1,55))))\n",
    "\n",
    "\n",
    "            b_ub = np.array([z]+42*[1]+[2,1,2,1,2,1]) #M<=2 #C<=1 # T<=2 # W<=1 #A<=2 #PC<=1\n",
    "            A_ub = np.concatenate((gioc[:,1].transpose(),\n",
    "                                    temp[2,:].reshape(1,55), temp[4:15,:], temp[17:25], temp[27:33,:],\n",
    "                                    temp[35:39,:], temp[41:53,:],\n",
    "                                    np.array(2*[0]+2*[1]+51*[0]).reshape((1,55)),\n",
    "                                    np.array(4*[0]+13*[1]+38*[0]).reshape((1,55)),\n",
    "                                    np.array(17*[0]+10*[1]+28*[0]).reshape((1,55)),\n",
    "                                    np.array(27*[0]+8*[1]+20*[0]).reshape((1,55)),\n",
    "                                    np.array(35*[0]+6*[1]+14*[0]).reshape((1,55)),\n",
    "                                    np.array(41*[0]+14*[1]).reshape((1,55)),\n",
    "                                  ))\n",
    "            \n",
    "        \n",
    "        \n",
    "        \n",
    "        # 3: Running the Optimization\n",
    "        \n",
    "    z1 = -gioc[:,0]\n",
    "    z2 = np.array(z1)\n",
    "    c = z2.reshape((55,))\n",
    "        \n",
    "    res = linprog(c, A_ub=A_ub, b_ub=b_ub, A_eq=A_eq, b_eq=b_eq, integrality=1)\n",
    "        \n",
    "        # 4: Showing Results\n",
    "        \n",
    "    final_names = []\n",
    "    for i in range(len(list(res.x))):\n",
    "        if 0.9 < list(res.x)[i] < 1.1:\n",
    "            final_names.append(names[i])\n",
    "                \n",
    "        \n",
    "    return [res.fun, final_names]"
   ]
  },
  {
   "cell_type": "code",
   "execution_count": 18,
   "id": "94851e10",
   "metadata": {},
   "outputs": [],
   "source": [
    "a,b = f(442,230)"
   ]
  },
  {
   "cell_type": "code",
   "execution_count": 19,
   "id": "5cda0d75",
   "metadata": {},
   "outputs": [
    {
     "data": {
      "text/plain": [
       "['Second Tier Goalie', 'Koop', 'Frattesi', 'Orsolini', 'Osimhen', 'Pinamonti']"
      ]
     },
     "execution_count": 19,
     "metadata": {},
     "output_type": "execute_result"
    }
   ],
   "source": [
    "b"
   ]
  },
  {
   "cell_type": "code",
   "execution_count": 35,
   "id": "348c3f61",
   "metadata": {},
   "outputs": [
    {
     "name": "stdout",
     "output_type": "stream",
     "text": [
      "343\n",
      "3412\n",
      "3421\n",
      "352\n",
      "3511\n",
      "433\n",
      "4312\n",
      "442\n",
      "4141\n",
      "4411\n",
      "4231\n"
     ]
    },
    {
     "data": {
      "image/png": "[encoded data removed]",
      "text/plain": [
       "<Figure size 432x288 with 1 Axes>"
      ]
     },
     "metadata": {
      "needs_background": "light"
     },
     "output_type": "display_data"
    },
    {
     "name": "stdout",
     "output_type": "stream",
     "text": [
      "343\n",
      "3412\n",
      "3421\n",
      "352\n",
      "3511\n",
      "433\n",
      "4312\n",
      "442\n",
      "4141\n",
      "4411\n",
      "4231\n"
     ]
    },
    {
     "data": {
      "image/png": "[encoded data removed]",
      "text/plain": [
       "<Figure size 432x288 with 1 Axes>"
      ]
     },
     "metadata": {
      "needs_background": "light"
     },
     "output_type": "display_data"
    },
    {
     "name": "stdout",
     "output_type": "stream",
     "text": [
      "343\n",
      "3412\n",
      "3421\n",
      "352\n",
      "3511\n",
      "433\n",
      "4312\n",
      "442\n",
      "4141\n",
      "4411\n",
      "4231\n"
     ]
    },
    {
     "data": {
      "image/png": "[encoded data removed]",
      "text/plain": [
       "<Figure size 432x288 with 1 Axes>"
      ]
     },
     "metadata": {
      "needs_background": "light"
     },
     "output_type": "display_data"
    },
    {
     "name": "stdout",
     "output_type": "stream",
     "text": [
      "343\n",
      "3412\n",
      "3421\n",
      "352\n",
      "3511\n",
      "433\n",
      "4312\n",
      "442\n",
      "4141\n",
      "4411\n",
      "4231\n"
     ]
    },
    {
     "data": {
      "image/png": "[encoded data removed]",
      "text/plain": [
       "<Figure size 432x288 with 1 Axes>"
      ]
     },
     "metadata": {
      "needs_background": "light"
     },
     "output_type": "display_data"
    },
    {
     "name": "stdout",
     "output_type": "stream",
     "text": [
      "343\n",
      "3412\n",
      "3421\n",
      "352\n",
      "3511\n",
      "433\n",
      "4312\n",
      "442\n",
      "4141\n",
      "4411\n",
      "4231\n"
     ]
    },
    {
     "data": {
      "image/png": "[encoded data removed]",
      "text/plain": [
       "<Figure size 432x288 with 1 Axes>"
      ]
     },
     "metadata": {
      "needs_background": "light"
     },
     "output_type": "display_data"
    },
    {
     "name": "stdout",
     "output_type": "stream",
     "text": [
      "343\n",
      "3412\n",
      "3421\n",
      "352\n",
      "3511\n",
      "433\n",
      "4312\n",
      "442\n",
      "4141\n",
      "4411\n",
      "4231\n"
     ]
    },
    {
     "data": {
      "image/png": "[encoded data removed]",
      "text/plain": [
       "<Figure size 432x288 with 1 Axes>"
      ]
     },
     "metadata": {
      "needs_background": "light"
     },
     "output_type": "display_data"
    },
    {
     "name": "stdout",
     "output_type": "stream",
     "text": [
      "343\n",
      "3412\n",
      "3421\n",
      "352\n",
      "3511\n",
      "433\n",
      "4312\n",
      "442\n",
      "4141\n",
      "4411\n",
      "4231\n"
     ]
    },
    {
     "data": {
      "image/png": "[encoded data removed]",
      "text/plain": [
       "<Figure size 432x288 with 1 Axes>"
      ]
     },
     "metadata": {
      "needs_background": "light"
     },
     "output_type": "display_data"
    },
    {
     "name": "stdout",
     "output_type": "stream",
     "text": [
      "343\n",
      "3412\n",
      "3421\n",
      "352\n",
      "3511\n",
      "433\n",
      "4312\n",
      "442\n",
      "4141\n",
      "4411\n",
      "4231\n"
     ]
    },
    {
     "data": {
      "image/png": "[encoded data removed]",
      "text/plain": [
       "<Figure size 432x288 with 1 Axes>"
      ]
     },
     "metadata": {
      "needs_background": "light"
     },
     "output_type": "display_data"
    }
   ],
   "source": [
    "form = [343,3412,3421,352,3511,433,4312,442,4141,4411,4231]\n",
    "other = [5,5,4,4,3,4,4,5,4,4,4]\n",
    "\n",
    "for cred in range(210,290,10):\n",
    "    score = []\n",
    "    for i in range(len(form)):\n",
    "        print(form[i])\n",
    "        if cred <= 220:\n",
    "            extra = 2*dif(3,10,4,0) + 6*(other[i]-2)\n",
    "        if cred == 230:\n",
    "            extra = 1*dif(3,10,4,0) + 6*(other[i]-1)\n",
    "        if cred >= 270:\n",
    "            extra = 5.5*other[i]\n",
    "        else: \n",
    "            extra = 6*other[i]\n",
    "    \n",
    "        score.append(-f(form[i],cred)[0]+extra)\n",
    "    \n",
    "    plt.figure()\n",
    "    plt.plot(score, '*-')\n",
    "    plt.plot(len(form)*[70], 'r-')\n",
    "    plt.xticks(range(11),form)\n",
    "    plt.title(f'Scores for cred {cred}')\n",
    "    plt.show()"
   ]
  },
  {
   "cell_type": "code",
   "execution_count": 21,
   "id": "81f79478",
   "metadata": {},
   "outputs": [],
   "source": [
    "# from the plots, we can see that the highest average score is achieved with 230 credits\n",
    "# for the starting team and 442 formation "
   ]
  },
  {
   "cell_type": "code",
   "execution_count": 38,
   "id": "fa6fb947",
   "metadata": {},
   "outputs": [],
   "source": [
    "a,b = f(3412,240)"
   ]
  },
  {
   "cell_type": "code",
   "execution_count": 39,
   "id": "1e5ffc7f",
   "metadata": {},
   "outputs": [
    {
     "data": {
      "text/plain": [
       "['Second Tier Goalie',\n",
       " 'Zielinski',\n",
       " 'Koop',\n",
       " 'De Ketelare',\n",
       " 'Osimhen',\n",
       " 'General pc Tier 1']"
      ]
     },
     "execution_count": 39,
     "metadata": {},
     "output_type": "execute_result"
    }
   ],
   "source": [
    "b"
   ]
  },
  {
   "cell_type": "markdown",
   "id": "294b4e6f",
   "metadata": {},
   "source": [
    "# Optimization"
   ]
  },
  {
   "cell_type": "code",
   "execution_count": 24,
   "id": "faff3959",
   "metadata": {},
   "outputs": [],
   "source": [
    "# 2+2+13+10+8+6+14"
   ]
  },
  {
   "cell_type": "code",
   "execution_count": 25,
   "id": "f5777210",
   "metadata": {},
   "outputs": [],
   "source": [
    "# positions for gen, 0 indexed: 3, 15,16, 25,26, 33,34, 39,40, 53,54"
   ]
  },
  {
   "cell_type": "markdown",
   "id": "94311286",
   "metadata": {},
   "source": [
    "# General"
   ]
  },
  {
   "cell_type": "code",
   "execution_count": 26,
   "id": "2804fd93",
   "metadata": {},
   "outputs": [],
   "source": [
    "A_eq = np.array(2*[1]+53*[0]).reshape((1,55))\n",
    "b_eq = 1\n",
    "temp = np.eye(55)\n",
    "A_ub = np.concatenate((gioc[:,1].transpose(),\n",
    "                        temp[2,:].reshape(1,55), temp[4:15,:], temp[17:25], temp[27:33,:],\n",
    "                        temp[35:39,:], temp[41:53,:],\n",
    "                        np.array(55*[1]).reshape(1,55),\n",
    "                        temp[3,:].reshape(1,55), temp[15,:].reshape(1,55), \n",
    "                        temp[16,:].reshape(1,55), temp[25,:].reshape(1,55),\n",
    "                        temp[26,:].reshape(1,55), temp[33,:].reshape(1,55), \n",
    "                        temp[34,:].reshape(1,55), temp[39,:].reshape(1,55),\n",
    "                        temp[40,:].reshape(1,55), temp[53,:].reshape(1,55),\n",
    "                        temp[54,:].reshape(1,55)\n",
    "                      ))\n",
    "                        \n",
    "\n",
    "b_ub = np.array([250]+42*[1]+[7]+[3]*11) # 250 creds, 1 single player, 7 players total, 3 gen max per role"
   ]
  },
  {
   "cell_type": "code",
   "execution_count": 27,
   "id": "8b30d17e",
   "metadata": {},
   "outputs": [
    {
     "ename": "ValueError",
     "evalue": "cannot reshape array of size 26 into shape (55,)",
     "output_type": "error",
     "traceback": [
      "\u001b[0;31m---------------------------------------------------------------------------\u001b[0m",
      "\u001b[0;31mValueError\u001b[0m                                Traceback (most recent call last)",
      "\u001b[0;32m<ipython-input-27-39cf65d82931>\u001b[0m in \u001b[0;36m<module>\u001b[0;34m\u001b[0m\n\u001b[1;32m      1\u001b[0m \u001b[0mz1\u001b[0m \u001b[0;34m=\u001b[0m \u001b[0;34m-\u001b[0m\u001b[0mgioc\u001b[0m\u001b[0;34m[\u001b[0m\u001b[0;34m:\u001b[0m\u001b[0;34m,\u001b[0m\u001b[0;36m0\u001b[0m\u001b[0;34m]\u001b[0m\u001b[0;34m\u001b[0m\u001b[0;34m\u001b[0m\u001b[0m\n\u001b[1;32m      2\u001b[0m \u001b[0mz2\u001b[0m \u001b[0;34m=\u001b[0m \u001b[0mnp\u001b[0m\u001b[0;34m.\u001b[0m\u001b[0marray\u001b[0m\u001b[0;34m(\u001b[0m\u001b[0mc\u001b[0m\u001b[0;34m)\u001b[0m\u001b[0;34m\u001b[0m\u001b[0;34m\u001b[0m\u001b[0m\n\u001b[0;32m----> 3\u001b[0;31m \u001b[0mc\u001b[0m \u001b[0;34m=\u001b[0m \u001b[0mz2\u001b[0m\u001b[0;34m.\u001b[0m\u001b[0mreshape\u001b[0m\u001b[0;34m(\u001b[0m\u001b[0;34m(\u001b[0m\u001b[0;36m55\u001b[0m\u001b[0;34m,\u001b[0m\u001b[0;34m)\u001b[0m\u001b[0;34m)\u001b[0m\u001b[0;34m\u001b[0m\u001b[0;34m\u001b[0m\u001b[0m\n\u001b[0m",
      "\u001b[0;31mValueError\u001b[0m: cannot reshape array of size 26 into shape (55,)"
     ]
    }
   ],
   "source": [
    "z1 = -gioc[:,0]\n",
    "z2 = np.array(c)\n",
    "c = z2.reshape((55,))"
   ]
  },
  {
   "cell_type": "code",
   "execution_count": null,
   "id": "c0c9435d",
   "metadata": {},
   "outputs": [],
   "source": [
    "res = linprog(c, A_ub=A_ub, b_ub=b_ub, A_eq=A_eq, b_eq=b_eq, integrality=1)"
   ]
  },
  {
   "cell_type": "code",
   "execution_count": null,
   "id": "b2ba63ce",
   "metadata": {},
   "outputs": [],
   "source": [
    "res.x"
   ]
  },
  {
   "cell_type": "code",
   "execution_count": null,
   "id": "fb030b94",
   "metadata": {},
   "outputs": [],
   "source": [
    "res.fun - 6*4"
   ]
  },
  {
   "cell_type": "code",
   "execution_count": null,
   "id": "73d69e38",
   "metadata": {},
   "outputs": [],
   "source": [
    "# 2+2+13+10+8+6+14"
   ]
  },
  {
   "cell_type": "code",
   "execution_count": null,
   "id": "6f14a845",
   "metadata": {},
   "outputs": [],
   "source": [
    "l = [1,1]"
   ]
  },
  {
   "cell_type": "code",
   "execution_count": null,
   "id": "aa1cbae8",
   "metadata": {},
   "outputs": [],
   "source": [
    "np.array([1,0])@np.array(['hi','ho'])"
   ]
  },
  {
   "cell_type": "markdown",
   "id": "8c3caac6",
   "metadata": {},
   "source": [
    "# 343"
   ]
  },
  {
   "cell_type": "code",
   "execution_count": null,
   "id": "c111d606",
   "metadata": {},
   "outputs": [],
   "source": [
    "b_eq = np.array([6, 1, 2, 3]) #P=1 #M+C=2 #W+A+PC=3\n",
    "A_eq = np.concatenate((np.array(55*[1]).reshape(1,55),\n",
    "                       np.array(2*[1]+53*[0]).reshape((1,55)), \n",
    "                       np.array(2*[0]+15*[1]+38*[0]).reshape((1,55)),\n",
    "                       np.array(27*[0]+28*[1]).reshape((1,55))))\n",
    "                       \n",
    "\n",
    "b_ub = np.array([250]+42*[1]+[1,2,2,2,1]) #M<=1 #C<=2 #W<=2 #A<=2 #PC<=1\n",
    "A_ub = np.concatenate((gioc[:,1].transpose(),\n",
    "                        temp[2,:].reshape(1,55), temp[4:15,:], temp[17:25], temp[27:33,:],\n",
    "                        temp[35:39,:], temp[41:53,:],\n",
    "                        np.array(2*[0]+2*[1]+51*[0]).reshape((1,55)),\n",
    "                        np.array(4*[0]+13*[1]+38*[0]).reshape((1,55)),\n",
    "                        np.array(27*[0]+8*[1]+20*[0]).reshape((1,55)),\n",
    "                        np.array(35*[0]+6*[1]+14*[0]).reshape((1,55)),\n",
    "                        np.array(41*[0]+14*[1]).reshape((1,55)),\n",
    "                      ))"
   ]
  },
  {
   "cell_type": "code",
   "execution_count": null,
   "id": "db434414",
   "metadata": {},
   "outputs": [],
   "source": [
    "z1 = -gioc[:,0]\n",
    "z2 = np.array(c)\n",
    "c = z2.reshape((55,))"
   ]
  },
  {
   "cell_type": "code",
   "execution_count": null,
   "id": "c7b7ac16",
   "metadata": {},
   "outputs": [],
   "source": [
    "res = linprog(c, A_ub=A_ub, b_ub=b_ub, A_eq=A_eq, b_eq=b_eq, integrality=1)"
   ]
  },
  {
   "cell_type": "code",
   "execution_count": null,
   "id": "fbbff33e",
   "metadata": {},
   "outputs": [],
   "source": [
    "res.fun - 5*6"
   ]
  },
  {
   "cell_type": "code",
   "execution_count": null,
   "id": "be1d8d6b",
   "metadata": {},
   "outputs": [],
   "source": [
    "res.x"
   ]
  },
  {
   "cell_type": "code",
   "execution_count": null,
   "id": "924b56ed",
   "metadata": {},
   "outputs": [],
   "source": [
    "# 2+2+13+10+8+6+14"
   ]
  },
  {
   "cell_type": "code",
   "execution_count": null,
   "id": "c3eb6202",
   "metadata": {},
   "outputs": [],
   "source": [
    "# 1-indexed: 2, 7,8, 33, 38, 53\n",
    "# Por 2nd tier # C: Zie and Koop # W: Chiesa # A: Di Maria # Arnautovic"
   ]
  },
  {
   "cell_type": "code",
   "execution_count": null,
   "id": "6084d5ad",
   "metadata": {},
   "outputs": [],
   "source": [
    "res.fun-6*5"
   ]
  },
  {
   "cell_type": "markdown",
   "id": "9eeed8ec",
   "metadata": {},
   "source": [
    "# 3412"
   ]
  },
  {
   "cell_type": "code",
   "execution_count": null,
   "id": "424e2b7c",
   "metadata": {},
   "outputs": [],
   "source": [
    "b_eq = np.array([6, 1, 2, 1, 2]) #P=1 #M+C=2 #T=1 #A+PC=2\n",
    "A_eq = np.concatenate((np.array(55*[1]).reshape(1,55),\n",
    "                       np.array(2*[1]+53*[0]).reshape((1,55)), \n",
    "                       np.array(2*[0]+15*[1]+38*[0]).reshape((1,55)),\n",
    "                       np.array(17*[0]+10*[1]+28*[0]).reshape((1,55)), \n",
    "                       np.array(35*[0]+20*[1]).reshape((1,55))))\n",
    "                       \n",
    "\n",
    "b_ub = np.array([250]+42*[1]+[1,2,2,2]) #M<=1 #C<=2 #A<=2 #PC<=2\n",
    "A_ub = np.concatenate((gioc[:,1].transpose(),\n",
    "                        temp[2,:].reshape(1,55), temp[4:15,:], temp[17:25], temp[27:33,:],\n",
    "                        temp[35:39,:], temp[41:53,:],\n",
    "                        np.array(2*[0]+2*[1]+51*[0]).reshape((1,55)),\n",
    "                        np.array(4*[0]+13*[1]+38*[0]).reshape((1,55)),\n",
    "                        np.array(35*[0]+6*[1]+14*[0]).reshape((1,55)),\n",
    "                        np.array(41*[0]+14*[1]).reshape((1,55)),\n",
    "                      ))"
   ]
  },
  {
   "cell_type": "code",
   "execution_count": null,
   "id": "b4f38f16",
   "metadata": {},
   "outputs": [],
   "source": [
    "z1 = -gioc[:,0]\n",
    "z2 = np.array(c)\n",
    "c = z2.reshape((55,))"
   ]
  },
  {
   "cell_type": "code",
   "execution_count": null,
   "id": "159b133d",
   "metadata": {},
   "outputs": [],
   "source": [
    "res = linprog(c, A_ub=A_ub, b_ub=b_ub, A_eq=A_eq, b_eq=b_eq, integrality=1)"
   ]
  },
  {
   "cell_type": "code",
   "execution_count": null,
   "id": "18bfca33",
   "metadata": {},
   "outputs": [],
   "source": [
    "res.fun - 5*6"
   ]
  },
  {
   "cell_type": "code",
   "execution_count": null,
   "id": "9a5ecc01",
   "metadata": {},
   "outputs": [],
   "source": [
    "res.x"
   ]
  },
  {
   "cell_type": "code",
   "execution_count": null,
   "id": "f71a4334",
   "metadata": {},
   "outputs": [],
   "source": [
    "# 2+2+13+10+8+6+14"
   ]
  },
  {
   "cell_type": "code",
   "execution_count": null,
   "id": "b26a96f6",
   "metadata": {},
   "outputs": [],
   "source": [
    "# 1-indexed: 2, 8, 10, 20, 42, 51\n",
    "# Por 2nd tier # C: Fra and Koop # T: Cal # PC: Osi/Vla + Pin"
   ]
  },
  {
   "cell_type": "markdown",
   "id": "a4be67ce",
   "metadata": {},
   "source": [
    "# 4231"
   ]
  },
  {
   "cell_type": "code",
   "execution_count": null,
   "id": "8d7e2162",
   "metadata": {},
   "outputs": [],
   "source": [
    "b_eq = np.array([7, 1, 2, 1, 2]) #P=1 #M+C=2 #W+T=2 #A+PC=2\n",
    "A_eq = np.concatenate((np.array(55*[1]).reshape(1,55),\n",
    "                       np.array(2*[1]+53*[0]).reshape((1,55)), \n",
    "                       np.array(2*[0]+15*[1]+38*[0]).reshape((1,55)),\n",
    "                       np.array(17*[0]+10*[1]+28*[0]).reshape((1,55)), \n",
    "                       np.array(35*[0]+20*[1]).reshape((1,55))))\n",
    "                       \n",
    "\n",
    "b_ub = np.array([250]+42*[1]+[2,1,2,1,2,1]) #M<=2 #C<=1 # T<=2 # W<=1 #A<=2 #PC<=1\n",
    "A_ub = np.concatenate((gioc[:,1].transpose(),\n",
    "                        temp[2,:].reshape(1,55), temp[4:15,:], temp[17:25], temp[27:33,:],\n",
    "                        temp[35:39,:], temp[41:53,:],\n",
    "                        np.array(2*[0]+2*[1]+51*[0]).reshape((1,55)),\n",
    "                        np.array(4*[0]+13*[1]+38*[0]).reshape((1,55)),\n",
    "                        np.array(17*[0]+10*[1]+28*[0]).reshape((1,55)),\n",
    "                        np.array(27*[0]+8*[1]+20*[0]).reshape((1,55)),\n",
    "                        np.array(35*[0]+6*[1]+14*[0]).reshape((1,55)),\n",
    "                        np.array(41*[0]+14*[1]).reshape((1,55)),\n",
    "                      ))"
   ]
  },
  {
   "cell_type": "code",
   "execution_count": null,
   "id": "ebddcde5",
   "metadata": {},
   "outputs": [],
   "source": [
    "z1 = -gioc[:,0]\n",
    "z2 = np.array(c)\n",
    "c = z2.reshape((55,))"
   ]
  },
  {
   "cell_type": "code",
   "execution_count": null,
   "id": "79ddb46d",
   "metadata": {},
   "outputs": [],
   "source": [
    "res = linprog(c, A_ub=A_ub, b_ub=b_ub, A_eq=A_eq, b_eq=b_eq, integrality=1)"
   ]
  },
  {
   "cell_type": "code",
   "execution_count": null,
   "id": "8b736ff7",
   "metadata": {},
   "outputs": [],
   "source": [
    "res.fun - 6*4"
   ]
  },
  {
   "cell_type": "code",
   "execution_count": null,
   "id": "47328ed0",
   "metadata": {},
   "outputs": [],
   "source": [
    "res.x"
   ]
  },
  {
   "cell_type": "code",
   "execution_count": null,
   "id": "aff781cd",
   "metadata": {},
   "outputs": [],
   "source": [
    "# 2+2+13+10+8+6+14"
   ]
  },
  {
   "cell_type": "code",
   "execution_count": null,
   "id": "3bca63ce",
   "metadata": {},
   "outputs": [],
   "source": [
    "# 1-indexed: 2, 3, 7, 20, 29, 38, 47\n",
    "# Por 2nd tier # M: Brz # C: Zie # T: Cal # A: Dim # PC: Gir"
   ]
  },
  {
   "cell_type": "markdown",
   "id": "92db2db1",
   "metadata": {},
   "source": [
    "# 4141"
   ]
  },
  {
   "cell_type": "code",
   "execution_count": null,
   "id": "1c7596af",
   "metadata": {},
   "outputs": [],
   "source": [
    "b_eq = np.array([7, 1, 1, 2, 2, 1]) #P=1 #M=1 #C+T=2 #W=2 #A+PC=1\n",
    "A_eq = np.concatenate((np.array(55*[1]).reshape(1,55),\n",
    "                       np.array(2*[1]+53*[0]).reshape((1,55)),\n",
    "                       np.array(2*[0]+2*[1]+51*[0]).reshape((1,55)),\n",
    "                       np.array(4*[0]+23*[1]+28*[0]).reshape((1,55)),\n",
    "                       np.array(27*[0]+8*[1]+20*[0]).reshape((1,55)), \n",
    "                       np.array(35*[0]+20*[1]).reshape((1,55))))\n",
    "                       \n",
    "\n",
    "b_ub = np.array([250]+42*[1]+[1,2,1,1]) #C<=1 # T<=2 #A<=1 #PC<=1\n",
    "A_ub = np.concatenate((gioc[:,1].transpose(),\n",
    "                        temp[2,:].reshape(1,55), temp[4:15,:], temp[17:25], temp[27:33,:],\n",
    "                        temp[35:39,:], temp[41:53,:],\n",
    "                        np.array(4*[0]+13*[1]+38*[0]).reshape((1,55)),\n",
    "                        np.array(17*[0]+10*[1]+28*[0]).reshape((1,55)),\n",
    "                        np.array(35*[0]+6*[1]+14*[0]).reshape((1,55)),\n",
    "                        np.array(41*[0]+14*[1]).reshape((1,55)),\n",
    "                      ))"
   ]
  },
  {
   "cell_type": "code",
   "execution_count": null,
   "id": "daa47ccd",
   "metadata": {},
   "outputs": [],
   "source": [
    "z1 = -gioc[:,0]\n",
    "z2 = np.array(c)\n",
    "c = z2.reshape((55,))"
   ]
  },
  {
   "cell_type": "code",
   "execution_count": null,
   "id": "cb55c765",
   "metadata": {},
   "outputs": [],
   "source": [
    "res = linprog(c, A_ub=A_ub, b_ub=b_ub, A_eq=A_eq, b_eq=b_eq, integrality=1)"
   ]
  },
  {
   "cell_type": "code",
   "execution_count": null,
   "id": "d026156b",
   "metadata": {},
   "outputs": [],
   "source": [
    "res.fun - 6*4"
   ]
  },
  {
   "cell_type": "code",
   "execution_count": null,
   "id": "4eb00ca0",
   "metadata": {},
   "outputs": [],
   "source": [
    "res.x"
   ]
  },
  {
   "cell_type": "code",
   "execution_count": null,
   "id": "6dfbacad",
   "metadata": {},
   "outputs": [],
   "source": [
    "# 2+2+13+10+8+6+14"
   ]
  },
  {
   "cell_type": "code",
   "execution_count": null,
   "id": "d09b140f",
   "metadata": {},
   "outputs": [],
   "source": [
    "# 1-indexed: 2, 3, 7, 20, 32, 34, 42\n",
    "# Por 2nd tier # M: Brz # C: Zie # T: Cal # W: Ors+genw1 # PC: Vla/Osi"
   ]
  },
  {
   "cell_type": "code",
   "execution_count": null,
   "id": "8416431b",
   "metadata": {},
   "outputs": [],
   "source": []
  }
 ],
 "metadata": {
  "kernelspec": {
   "display_name": "Python 3",
   "language": "python",
   "name": "python3"
  },
  "language_info": {
   "codemirror_mode": {
    "name": "ipython",
    "version": 3
   },
   "file_extension": ".py",
   "mimetype": "text/x-python",
   "name": "python",
   "nbconvert_exporter": "python",
   "pygments_lexer": "ipython3",
   "version": "3.8.8"
  }
 },
 "nbformat": 4,
 "nbformat_minor": 5
}
